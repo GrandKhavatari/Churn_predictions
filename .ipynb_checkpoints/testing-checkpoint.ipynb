{
 "cells": [
  {
   "cell_type": "markdown",
   "id": "348b0013",
   "metadata": {},
   "source": [
    "## Test rendering"
   ]
  },
  {
   "cell_type": "markdown",
   "id": "8cfb5230",
   "metadata": {},
   "source": [
    "___\n",
    "<div style=\"display: flex; opacity: 0.8\">\n",
    "<div style = \"width: 20px; height: 12px; background: #e0f3fd; color: transparent; border-radius: 50%; border: 1px solid #99dafd; box-shadow: 2px 2px 2px #1e6a93\">_</div>\n",
    "<div style = \"width: 30px; margin-top: 5px; margin-left: 5px; height: 20px; background: #e0f3fd; color: transparent; border-radius: 50%; border: 1px solid #99dafd; box-shadow: 2px 2px 2px #1e6a93\">_</div> \n",
    "    \n",
    "<div style = \"text-align:center; width: 100%; margin-left: 0px; margin-top: 15px; background: #e0f3fd; border: 1px solid #99dafd; border-radius: 20px 15px 15px 15px; margin-bottom:20px; color: #1e6a93; font-size: 37px; padding-left: 30px; padding-right: 10px; padding-top: 8px; padding-bottom: 15px;font-family: Calibri; opacity: 0.8; box-shadow: 2px 2px 2px #1e6a93\">\n",
    "    \n",
    "    \n",
    "    \n",
    "    \n",
    "    \n",
    " Прогнозирование оттока клиентов оператора связи\n",
    "    \n",
    "</div>\n",
    "</div>\n",
    "</div>\n",
    "</div>\n",
    "    "
   ]
  },
  {
   "cell_type": "code",
   "execution_count": null,
   "id": "46b6c6a3",
   "metadata": {},
   "outputs": [],
   "source": []
  },
  {
   "cell_type": "code",
   "execution_count": 1,
   "id": "74e89cb6",
   "metadata": {},
   "outputs": [],
   "source": [
    "!pip install phik\n",
    "\n",
    "from IPython.display import display_html, clear_output, Image\n",
    "\n",
    "from itertools import chain, cycle\n",
    "\n",
    "from lightgbm import LGBMClassifier\n",
    "\n",
    "import matplotlib.pyplot as plt\n",
    "import matplotlib.ticker as ticker\n",
    "%matplotlib inline\n",
    "\n",
    "import numpy as np\n",
    "\n",
    "import phik\n",
    "\n",
    "import pandas as pd\n",
    "\n",
    "import seaborn as sns\n",
    "\n",
    "from sklearn.compose import make_column_transformer\n",
    "from sklearn.ensemble import GradientBoostingClassifier, RandomForestClassifier\n",
    "from sklearn.linear_model import LogisticRegression\n",
    "from sklearn.metrics import roc_auc_score, auc, accuracy_score, roc_curve, precision_score, recall_score, f1_score\n",
    "from sklearn.metrics import  make_scorer, RocCurveDisplay,confusion_matrix, confusion_matrix\n",
    "from sklearn.model_selection import train_test_split, RandomizedSearchCV, StratifiedKFold\n",
    "from sklearn.preprocessing import StandardScaler, OrdinalEncoder, OneHotEncoder\n",
    "\n",
    "from xgboost import XGBClassifier\n",
    "\n",
    "import warnings\n",
    "\n",
    "\n",
    "# глобально установим random_state\n",
    "random_state = 291122\n",
    "\n",
    "from sklearn.feature_selection import mutual_info_classif\n",
    "clear_output()"
   ]
  },
  {
   "cell_type": "markdown",
   "id": "ce8e6187",
   "metadata": {},
   "source": [
    "### Testing\n"
   ]
  },
  {
   "cell_type": "code",
   "execution_count": null,
   "id": "d6674566",
   "metadata": {},
   "outputs": [],
   "source": []
  }
 ],
 "metadata": {
  "kernelspec": {
   "display_name": "Python 3 (ipykernel)",
   "language": "python",
   "name": "python3"
  },
  "language_info": {
   "codemirror_mode": {
    "name": "ipython",
    "version": 3
   },
   "file_extension": ".py",
   "mimetype": "text/x-python",
   "name": "python",
   "nbconvert_exporter": "python",
   "pygments_lexer": "ipython3",
   "version": "3.9.7"
  },
  "toc": {
   "base_numbering": 1,
   "nav_menu": {},
   "number_sections": true,
   "sideBar": true,
   "skip_h1_title": false,
   "title_cell": "Table of Contents",
   "title_sidebar": "Contents",
   "toc_cell": false,
   "toc_position": {},
   "toc_section_display": true,
   "toc_window_display": false
  }
 },
 "nbformat": 4,
 "nbformat_minor": 5
}
