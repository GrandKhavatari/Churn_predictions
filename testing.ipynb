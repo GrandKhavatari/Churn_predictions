{
 "cells": [
  {
   "cell_type": "markdown",
   "id": "348b0013",
   "metadata": {},
   "source": [
    "## Test rendering"
   ]
  },
  {
   "cell_type": "code",
   "execution_count": 1,
   "id": "74e89cb6",
   "metadata": {},
   "outputs": [],
   "source": [
    "!pip install phik\n",
    "\n",
    "from IPython.display import display_html, clear_output, Image\n",
    "\n",
    "from itertools import chain, cycle\n",
    "\n",
    "from lightgbm import LGBMClassifier\n",
    "\n",
    "import matplotlib.pyplot as plt\n",
    "import matplotlib.ticker as ticker\n",
    "%matplotlib inline\n",
    "\n",
    "import numpy as np\n",
    "\n",
    "import phik\n",
    "\n",
    "import pandas as pd\n",
    "\n",
    "import seaborn as sns\n",
    "\n",
    "from sklearn.compose import make_column_transformer\n",
    "from sklearn.ensemble import GradientBoostingClassifier, RandomForestClassifier\n",
    "from sklearn.linear_model import LogisticRegression\n",
    "from sklearn.metrics import roc_auc_score, auc, accuracy_score, roc_curve, precision_score, recall_score, f1_score\n",
    "from sklearn.metrics import  make_scorer, RocCurveDisplay,confusion_matrix, confusion_matrix\n",
    "from sklearn.model_selection import train_test_split, RandomizedSearchCV, StratifiedKFold\n",
    "from sklearn.preprocessing import StandardScaler, OrdinalEncoder, OneHotEncoder\n",
    "\n",
    "from xgboost import XGBClassifier\n",
    "\n",
    "import warnings\n",
    "\n",
    "pd.set_option('display.max_colwidth', 10000)\n",
    "warnings.filterwarnings('ignore')\n",
    "\n",
    "# глобально установим random_state\n",
    "random_state = 291122\n",
    "\n",
    "from sklearn.feature_selection import mutual_info_classif\n",
    "clear_output()"
   ]
  },
  {
   "cell_type": "markdown",
   "id": "ce8e6187",
   "metadata": {},
   "source": [
    "### Testing\n"
   ]
  },
  {
   "cell_type": "code",
   "execution_count": null,
   "id": "d6674566",
   "metadata": {},
   "outputs": [],
   "source": []
  }
 ],
 "metadata": {
  "kernelspec": {
   "display_name": "Python 3 (ipykernel)",
   "language": "python",
   "name": "python3"
  },
  "language_info": {
   "codemirror_mode": {
    "name": "ipython",
    "version": 3
   },
   "file_extension": ".py",
   "mimetype": "text/x-python",
   "name": "python",
   "nbconvert_exporter": "python",
   "pygments_lexer": "ipython3",
   "version": "3.9.7"
  },
  "toc": {
   "base_numbering": 1,
   "nav_menu": {},
   "number_sections": true,
   "sideBar": true,
   "skip_h1_title": false,
   "title_cell": "Table of Contents",
   "title_sidebar": "Contents",
   "toc_cell": false,
   "toc_position": {},
   "toc_section_display": true,
   "toc_window_display": false
  }
 },
 "nbformat": 4,
 "nbformat_minor": 5
}
